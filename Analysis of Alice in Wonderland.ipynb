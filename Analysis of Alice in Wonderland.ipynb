{
 "cells": [
  {
   "cell_type": "markdown",
   "metadata": {},
   "source": [
    "# An Analysis of Alice in Wonderland\n",
    "\n",
    "In this project I will use Python and the nltk and spacy libraries to carry out a textual analysis of Lewis Carroll's *Alice in Wonderland*. You will find my code below with inline commentary. I will be working from the text found [here](http://www.gutenberg.org/files/11/11-0.txt).\n",
    "\n",
    "\n",
    "I will take the following steps:\n",
    "\n",
    "1. Read in the external text file and convert to an nltk text\n",
    "2. Find, plot, and discuss the four most common words in the text\n",
    "3. Discuss how often adjectives appear on either side of Alice's name (and what those adjectives are)\n",
    "4. Plot the occurrence of the most common adjectives throughout the text, and discuss whether they show anything about the state of Alice or the plot in the book\n",
    "5. For fun, we will see what percentage of the text Alice's name accounts for"
   ]
  },
  {
   "cell_type": "markdown",
   "metadata": {},
   "source": [
    "I begin by importing the libraries that will be necessary for this project"
   ]
  },
  {
   "cell_type": "code",
   "execution_count": 1,
   "metadata": {},
   "outputs": [],
   "source": [
    "import nltk, re, pprint\n",
    "import string\n",
    "from nltk import word_tokenize\n",
    "from nltk.probability import FreqDist\n",
    "from nltk.corpus import stopwords\n",
    "from urllib import request"
   ]
  },
  {
   "cell_type": "markdown",
   "metadata": {},
   "source": [
    "### Read and Convert\n",
    "\n",
    "We then read in the txt file from the web, set aside the leading and trailing Project Gutenburg information, and convert what results into an nltk text."
   ]
  },
  {
   "cell_type": "code",
   "execution_count": 2,
   "metadata": {},
   "outputs": [],
   "source": [
    "# attempt to read the file\n",
    "url = 'http://www.gutenberg.org/files/11/11-0.txt'\n",
    "try:\n",
    "    response = request.urlopen(url)\n",
    "    raw = response.read().decode('utf-8')\n",
    "except:\n",
    "    print(\"Error! Unable to read from address provided.\")\n",
    "    \n",
    "# find the actual start and end of the text, cut off Project Gutenberg information\n",
    "start = raw.find('CHAPTER I')\n",
    "end = raw.rfind('THE END')\n",
    "\n",
    "raw = raw[start:end]\n",
    "\n",
    "# tokenize text, standardize to lowercase, and convert into nltk Text\n",
    "tokens = word_tokenize(raw)\n",
    "tokens = [token.lower() for token in tokens]\n",
    "text = nltk.Text(tokens)"
   ]
  },
  {
   "cell_type": "markdown",
   "metadata": {},
   "source": [
    "## Frequency Information\n",
    "\n",
    "Now we look at the 4 most common words in the book and their distribution throughout the text."
   ]
  },
  {
   "cell_type": "code",
   "execution_count": 3,
   "metadata": {},
   "outputs": [
    {
     "name": "stdout",
     "output_type": "stream",
     "text": [
      "[(',', 2418), ('’', 1755), ('the', 1637), ('‘', 1115)]\n"
     ]
    }
   ],
   "source": [
    "fdist1 = FreqDist(text)\n",
    "result1 = fdist1.most_common(4)\n",
    "print(result1)"
   ]
  },
  {
   "cell_type": "markdown",
   "metadata": {},
   "source": [
    "The predominance of punctuation in this example is not particularly helpful to the current analysis, so I strip the punctuation from the original raw file, remake the nltk text, and run this again."
   ]
  },
  {
   "cell_type": "code",
   "execution_count": 4,
   "metadata": {},
   "outputs": [
    {
     "name": "stdout",
     "output_type": "stream",
     "text": [
      "[('the', 1630), ('and', 844), ('to', 721), ('a', 627)]\n"
     ]
    }
   ],
   "source": [
    "# strip the punctuation\n",
    "punct_remove = string.punctuation + chr(8217) + chr(8216)\n",
    "trans = str.maketrans('', '', punct_remove)\n",
    "raw_stripped = raw.translate(trans)\n",
    "\n",
    "# reconvert to tokens, restandardize, and remake nltk text\n",
    "tokens_stripped = word_tokenize(raw_stripped)\n",
    "tokens_stripped = [token.lower() for token in tokens_stripped]\n",
    "text2 = nltk.Text(tokens_stripped)\n",
    "\n",
    "# rerun the frequency distribution\n",
    "fdist2 = FreqDist(text2)\n",
    "result2 = fdist2.most_common(4)\n",
    "print(result2)"
   ]
  },
  {
   "cell_type": "markdown",
   "metadata": {},
   "source": [
    "We now have the four most common words in *Alice in Wonderland*: 'the', 'and', 'to', and 'a'. Yet again, however, this information is not particularly useful, as it is completely populated by \"stop words.\" To obtain a more meaningful analysis, let us strip the text of stop words and try again."
   ]
  },
  {
   "cell_type": "code",
   "execution_count": 5,
   "metadata": {},
   "outputs": [
    {
     "name": "stdout",
     "output_type": "stream",
     "text": [
      "[('said', 462), ('alice', 385), ('little', 128), ('one', 101)]\n"
     ]
    },
    {
     "data": {
      "image/png": "[encoded data removed]",
      "text/plain": [
       "<Figure size 432x288 with 1 Axes>"
      ]
     },
     "metadata": {},
     "output_type": "display_data"
    }
   ],
   "source": [
    "# remove stopwords\n",
    "stop_words = set(stopwords.words(\"english\"))\n",
    "tokens_final = [token for token in tokens_stripped if token not in stop_words]\n",
    "text3 = nltk.Text(tokens_final)\n",
    "\n",
    "# final check on top 4 words\n",
    "fdist3 = FreqDist(text3)\n",
    "result3 = fdist3.most_common(4)\n",
    "print(result3)\n",
    "\n",
    "# plot these results\n",
    "%matplotlib inline\n",
    "fdist3.plot(4)"
   ]
  },
  {
   "cell_type": "markdown",
   "metadata": {},
   "source": [
    "### Results\n",
    "\n",
    "These results are somewhat more meaningful, though some of them may seem obvious. \n",
    "\n",
    "1. The presence of 'said' at the head of the list demonstrates the prevalance of dialogue in this text (and possibly a lack of variation in Carroll's vocabulary). This makes sense, given that before we stripped punctuation, single quotes (which the txt file uses as dialogue markers) accounted for two of the most common tokens.\n",
    "2. The appearance of Alice's name next makes a great deal of sense, since she is the titular protagonist of the work.\n",
    "3. We must look carefully at 'little' and 'one' in the coming sections. Are these simply common independently occurring words, or are they regularly used to describe Alice? We will find out in the next section.\n",
    "\n",
    "Before moving on to further textual analysis, let us examine the dispersion plot for these words to see if they appear consistently throughout the work. For this plot we will use the text containing all tokens (including stop words and punctuation) to get a better sense of the full text's structure."
   ]
  },
  {
   "cell_type": "code",
   "execution_count": 6,
   "metadata": {},
   "outputs": [
    {
     "data": {
      "image/png": "[encoded data removed]",
      "text/plain": [
       "<Figure size 432x288 with 1 Axes>"
      ]
     },
     "metadata": {},
     "output_type": "display_data"
    }
   ],
   "source": [
    "# create a list of the most common words\n",
    "words = []\n",
    "for item in result3:\n",
    "    words.append(item[0])\n",
    "\n",
    "# plot the occurrence of the words\n",
    "%matplotlib inline\n",
    "text.dispersion_plot(words)"
   ]
  },
  {
   "cell_type": "markdown",
   "metadata": {},
   "source": [
    "These results are rather unsurprising. Each of the most common terms occurs relatively consistently over the course of the work. There are two possible exceptions: 'said' and 'little'. 'Said' appears to be slightly less common at the beginning of the work, though that may be explained by the presence of introductory exposition. The author's use of 'little' appears to diminish in the latter half of the book as well."
   ]
  },
  {
   "cell_type": "markdown",
   "metadata": {},
   "source": [
    "## Adjectives with Alice\n",
    "\n",
    "I now turn my analysis to the occurrence of adjectives immediately before or after Alice's name in the text. For this task I will utilize part of speech tagging. I will therefore temporarily transition to using the spacy library, as I have found its automated part of speech tagging more accurate. This shift requires a small amount of preliminary work (loading the file into a spacy doc), which I will carry out now. I use the same original raw string as before."
   ]
  },
  {
   "cell_type": "code",
   "execution_count": 7,
   "metadata": {},
   "outputs": [
    {
     "name": "stdout",
     "output_type": "stream",
     "text": [
      "[('poor', 'Alice'), ('little', 'Alice'), ('poor', 'Alice'), ('poor', 'Alice'), ('poor', 'Alice'), ('poor', 'Alice'), ('poor', 'Alice'), ('poor', 'Alice'), ('poor', 'Alice'), ('up,’', 'Alice'), ('on!’', 'Alice'), ('poor', 'Alice'), ('that', 'Alice'), ('round', 'Alice'), ('of?’', 'Alice'), ('little', 'Alice'), ('little', 'Alice')]\n",
      "Occurences of 'Alice' and immediately preceding or following adjective: 17\n",
      "Unique combinations:  7\n"
     ]
    }
   ],
   "source": [
    "# let spacy analyze the file\n",
    "import spacy\n",
    "\n",
    "nlp = spacy.load('en_core_web_md')\n",
    "doc = nlp(raw)\n",
    "\n",
    "# iterate through tokenized doc, load adjective-noun pairs as tuples (adj, 'Alice') or ('Alice', adj) into list\n",
    "# record the locations where 'poor alice' found\n",
    "\n",
    "alice_adj = []\n",
    "indices_alice = []\n",
    "\n",
    "for i in range(len(doc)):\n",
    "    if doc[i].text == 'Alice':\n",
    "        try:\n",
    "            if doc[i-1].pos_ == 'ADJ':\n",
    "                alice_adj.append((doc[i-1].text, 'Alice'))\n",
    "                if doc[i-1].text == 'poor':\n",
    "                    indices_alice.append(i)\n",
    "            if doc[i+1].pos_ == 'ADJ':\n",
    "                alice_adj.append(('Alice', doc[i+1].text))\n",
    "                if doc[i+1].text == 'poor':\n",
    "                    indices_alice.append(i)\n",
    "        except KeyError:\n",
    "            continue\n",
    "\n",
    "print(alice_adj)\n",
    "print(\"Occurences of 'Alice' and immediately preceding or following adjective:\", len(alice_adj))\n",
    "print(\"Unique combinations: \", len(set(alice_adj)))"
   ]
  },
  {
   "cell_type": "markdown",
   "metadata": {},
   "source": [
    "Poor Alice! As we can see, she is described as \"poor Alice\" 9 times out of the 17 expressions which spacy logged. This accounts for roughly 52.9% of the results. Some of these tuples were obviously erroneously tagged, however. What happens if we remove them?"
   ]
  },
  {
   "cell_type": "code",
   "execution_count": 8,
   "metadata": {
    "scrolled": true
   },
   "outputs": [
    {
     "name": "stdout",
     "output_type": "stream",
     "text": [
      "[('poor', 'Alice'), ('little', 'Alice'), ('poor', 'Alice'), ('poor', 'Alice'), ('poor', 'Alice'), ('poor', 'Alice'), ('poor', 'Alice'), ('poor', 'Alice'), ('poor', 'Alice'), ('poor', 'Alice'), ('that', 'Alice'), ('round', 'Alice'), ('little', 'Alice'), ('little', 'Alice')]\n",
      "New length of adj-Alice pairs:  14\n",
      "New number of unique items:  4\n"
     ]
    }
   ],
   "source": [
    "# iterate over the results and remove any that contain punctuation\n",
    "for tup in alice_adj[:]:\n",
    "    for char in tup[0]:\n",
    "        if char in punct_remove:\n",
    "            alice_adj.remove(tup)\n",
    "            break\n",
    "            \n",
    "print(alice_adj)\n",
    "print(\"New length of adj-Alice pairs: \", len(alice_adj))\n",
    "print(\"New number of unique items: \", len(set(alice_adj)))\n",
    "    "
   ]
  },
  {
   "cell_type": "markdown",
   "metadata": {},
   "source": [
    "Removing the tuples containing punctuation breaks, we are left with 14 results, of which only 4 are unique! 'Poor Alice' now accounts for roughly 64.2% of our pairs. Note also that 'little Alice,' containing two of the 4 most frequent words (after stripping punctuation and stop words) takes up approximately 21.4% (3/14) of the results. These account for a very small proportion, however, of the 128 instances of 'little' noted in the overall frequency distribution displayed above."
   ]
  },
  {
   "cell_type": "markdown",
   "metadata": {},
   "source": [
    "### Alternative Method\n",
    "\n",
    "To see more generally what adjectives surround 'Alice' in *Alice in Wonderland*, I here use the raw text file that has its punctuation stripped out. We will therefore see the *types* of descriptions occurring around her name, but cannot determine whether they are part of the same sentence are not."
   ]
  },
  {
   "cell_type": "code",
   "execution_count": 9,
   "metadata": {},
   "outputs": [
    {
     "name": "stdout",
     "output_type": "stream",
     "text": [
      "[('poor', 'Alice'), ('little', 'Alice'), ('poor', 'Alice'), ('poor', 'Alice'), ('poor', 'Alice'), ('middle', 'Alice'), ('poor', 'Alice'), ('poor', 'Alice'), ('poor', 'Alice'), ('foolish', 'Alice'), ('different', 'Alice'), ('poor', 'Alice'), ('cried', 'Alice'), ('Alice', 'its'), ('poor', 'Alice'), ('red', 'Alice'), ('that', 'Alice'), ('better', 'Alice'), ('twelfth', 'Alice'), ('round', 'Alice'), ('Alice', 'its'), ('Alice', 'whose'), ('kind', 'Alice'), ('little', 'Alice'), ('little', 'Alice')]\n",
      "Occurrences of poor: 9\n",
      "Occurences of 'Alice' and immediately preceding or following adjective: 25\n",
      "Unique occurrences:  14\n"
     ]
    }
   ],
   "source": [
    "doc2 = nlp(raw_stripped)\n",
    "\n",
    "# iterate through tokenized doc, load adjective-noun pairs as tuples (adj, 'Alice') or ('Alice', adj) into list\n",
    "\n",
    "alice_adj2 = []\n",
    "\n",
    "for i in range(len(doc2)):\n",
    "    if doc2[i].text == 'Alice':\n",
    "        try:\n",
    "            if doc2[i-1].pos_ == 'ADJ':\n",
    "                alice_adj2.append((doc2[i-1].text, 'Alice'))\n",
    "            if doc2[i+1].pos_ == 'ADJ':\n",
    "                alice_adj2.append(('Alice', doc2[i+1].text))\n",
    "        except KeyError:\n",
    "            continue\n",
    "            \n",
    "# how many of these contain 'poor'?\n",
    "poor_count = 0\n",
    "for tup in alice_adj2:\n",
    "    if 'poor' in tup[0] or 'poor' in tup[1]:\n",
    "        poor_count += 1\n",
    "\n",
    "print(alice_adj2)\n",
    "print(\"Occurrences of poor:\", poor_count)\n",
    "print(\"Occurences of 'Alice' and immediately preceding or following adjective:\", len(alice_adj2))\n",
    "print(\"Unique occurrences: \", len(set(alice_adj2)))"
   ]
  },
  {
   "cell_type": "markdown",
   "metadata": {},
   "source": [
    "After allowing the inclusion of adjectives across punctuation breaks, our list increases in length to 25. Some new adjectives have appeared, such as 'middle,' 'foolish,' and 'different.' 'Poor Alice' accounts for 36% of this list - still a sizeable amount. It would seem that she suffers many misfortunes in the work."
   ]
  },
  {
   "cell_type": "markdown",
   "metadata": {},
   "source": [
    "## Analysis of 'Poor'\n",
    "\n",
    "Since 'poor' is used so regularly to describe Alice, examining its use in the text may reveal further insights. I will begin by seeing what proportion of the total number of appearances of the word 'poor' in the text occur in 'poor Alice.' I will then plot the occurrences of 'poor' throughout the text, to see if it displays anything about the mood of the current action. For these actions I return to the nltk library."
   ]
  },
  {
   "cell_type": "code",
   "execution_count": 10,
   "metadata": {},
   "outputs": [
    {
     "name": "stdout",
     "output_type": "stream",
     "text": [
      "33.333% occurrences of 'poor' contain 'poor Alice.'\n",
      "2.338% appearances of 'Alice' in 'poor Alice.'\n"
     ]
    }
   ],
   "source": [
    "# calculate the total number of occurrences of 'poor', see what proportion 'poor Alice' represents\n",
    "\n",
    "prop = round((poor_count / text2.count('poor') * 100), 3)\n",
    "print(str(prop) + \"% occurrences of 'poor' contain 'poor Alice.'\")\n",
    "\n",
    "# count how often Alice appears with 'poor'\n",
    "prop2 = round((poor_count / text2.count('alice') * 100), 3)\n",
    "print(str(prop2) + \"% appearances of 'Alice' in 'poor Alice.'\")"
   ]
  },
  {
   "cell_type": "markdown",
   "metadata": {},
   "source": [
    "'Poor Alice' accounts for a full third of the occurrences of 'poor' in the text. \n",
    "\n",
    "Looking at it from the other direction, of all occurrences of Alice's name in the text, a low but measurable 2.338% of them occur in the phrase 'poor Alice' - roughly 1 in 43. As noted above, however, 'poor Alice' accounts for a much higher percentage (52.9% or 64.2%, depending on the method of calculation) of the occurrences of 'Alice' with an adjective immediately preceding or following it.\n",
    "\n",
    "\n",
    "### Dispersion of 'Poor'\n",
    "\n",
    "We now know that the adjective 'poor' is strongly associated with Alice, so let us see where in the text the word appears."
   ]
  },
  {
   "cell_type": "code",
   "execution_count": 11,
   "metadata": {},
   "outputs": [
    {
     "data": {
      "image/png": "[encoded data removed]",
      "text/plain": [
       "<Figure size 432x288 with 1 Axes>"
      ]
     },
     "metadata": {},
     "output_type": "display_data"
    }
   ],
   "source": [
    "%matplotlib inline\n",
    "text.dispersion_plot(['poor'])   "
   ]
  },
  {
   "cell_type": "markdown",
   "metadata": {},
   "source": [
    "It would appear that the misfortunes requiring the use of the adjective 'poor' cluster somewhat in the text. Let us see where specifically \"poor alice\" falls."
   ]
  },
  {
   "cell_type": "code",
   "execution_count": 12,
   "metadata": {},
   "outputs": [
    {
     "data": {
      "image/png": "[encoded data removed]",
      "text/plain": [
       "<Figure size 432x288 with 1 Axes>"
      ]
     },
     "metadata": {},
     "output_type": "display_data"
    }
   ],
   "source": [
    "import pylab as plt\n",
    "\n",
    "# make a custom plot to show locations of 'poor Alice'\n",
    "y_vals = []\n",
    "y_vals = [0 for n in range(len(indices_alice))]\n",
    "plt.figure(1)\n",
    "plt.clf()\n",
    "plt.title('Lexical Dispersion Plot')\n",
    "plt.xlabel('Word Offset')\n",
    "plt.ylabel('poor')\n",
    "plt.xlim(0, len(doc))\n",
    "plt.plot(indices_alice, y_vals, 'bo')\n",
    "plt.show()\n"
   ]
  },
  {
   "cell_type": "markdown",
   "metadata": {},
   "source": [
    "It would appear that Alice is only \"poor Alice\" during the first two-thirds of the work, with the vast majority of the appearances in the first quarter, clustered on two occassions. It would seem that either Carroll's vocabulary changes, or Alice's situation improves markedly over the course of the work."
   ]
  },
  {
   "cell_type": "markdown",
   "metadata": {},
   "source": [
    "## Final Analyses and Conclusion\n",
    "\n",
    "Before ending my textual analysis of Lewis Carroll's *Alice in Wonderland*, I have a few brief points of analysis I would like to touch on. First, I thought it would be fun to see how much of the text is taken up by Alice's name. I calculate this using the nltk text with punctuation tokens removed (text2)."
   ]
  },
  {
   "cell_type": "code",
   "execution_count": 13,
   "metadata": {},
   "outputs": [
    {
     "name": "stdout",
     "output_type": "stream",
     "text": [
      "'Alice' accounts for 1.453% of the words in the text.\n"
     ]
    }
   ],
   "source": [
    "alice_prop = round(100 * text2.count('alice') / len(text2), 3)\n",
    "print(\"'Alice' accounts for \" + str(alice_prop) + \"% of the words in the text.\")"
   ]
  },
  {
   "cell_type": "markdown",
   "metadata": {},
   "source": [
    "References to Alice's name account for 1.453% of the text, or roughly one in 70 words. Finally, let us look at words which nltk identifies as occupying contexts similar to the two most common adjectives associated with Alice: poor and little."
   ]
  },
  {
   "cell_type": "code",
   "execution_count": 14,
   "metadata": {},
   "outputs": [
    {
     "name": "stdout",
     "output_type": "stream",
     "text": [
      "to do thought said other wise cried sharp unfortunate\n",
      "next great mouse bit long garden while fan duchess\n"
     ]
    }
   ],
   "source": [
    "text.similar('poor', 9)\n",
    "text.similar('little', 9)"
   ]
  },
  {
   "cell_type": "markdown",
   "metadata": {},
   "source": [
    "While I will not analyze each of these words, I will provide a few observations. \n",
    "\n",
    "The presence of terms such as sharp, cried, and unfortunate in the list of words sharing contexts with 'poor' makes sense, since they can denote negative experiences or events. 'Said' is most likely included because, just like 'poor,' it is regularly paired with Alice (when beginning or ending dialogue).\n",
    "\n",
    "Many other approaches could be taken to an analysis of this text, but I end my examination here."
   ]
  },
  {
   "cell_type": "code",
   "execution_count": null,
   "metadata": {},
   "outputs": [],
   "source": []
  }
 ],
 "metadata": {
  "kernelspec": {
   "display_name": "Python 3",
   "language": "python",
   "name": "python3"
  },
  "language_info": {
   "codemirror_mode": {
    "name": "ipython",
    "version": 3
   },
   "file_extension": ".py",
   "mimetype": "text/x-python",
   "name": "python",
   "nbconvert_exporter": "python",
   "pygments_lexer": "ipython3",
   "version": "3.6.5"
  }
 },
 "nbformat": 4,
 "nbformat_minor": 2
}
